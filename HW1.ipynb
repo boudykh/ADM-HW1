{
 "cells": [
  {
   "cell_type": "code",
   "execution_count": 4,
   "metadata": {},
   "outputs": [
    {
     "name": "stdout",
     "output_type": "stream",
     "text": [
      "Hello, World!\n"
     ]
    }
   ],
   "source": [
    "##Introduction##Say \"Hello, World!\" With Python\n",
    "print(\"Hello, World!\")"
   ]
  },
  {
   "cell_type": "code",
   "execution_count": 8,
   "metadata": {},
   "outputs": [
    {
     "name": "stdin",
     "output_type": "stream",
     "text": [
      " 34\n"
     ]
    },
    {
     "name": "stdout",
     "output_type": "stream",
     "text": [
      "Not Weird\n"
     ]
    }
   ],
   "source": [
    "##Introduction##Python If-Else\n",
    "n = int(input().strip())\n",
    "if n%2 != 0 :\n",
    "    print('Weird')\n",
    "\n",
    "elif n>= 2 and n<= 5 and n%2 == 0 : \n",
    "    print('Not Weird')\n",
    "\n",
    "elif n>= 6 and n<= 20 and n%2 == 0 : \n",
    "    print('Weird')\n",
    "\n",
    "elif n>= 20 and n<= 100 and n%2 == 0  : \n",
    "    print('Not Weird')"
   ]
  },
  {
   "cell_type": "code",
   "execution_count": 9,
   "metadata": {},
   "outputs": [
    {
     "name": "stdin",
     "output_type": "stream",
     "text": [
      " 5\n",
      " 6\n"
     ]
    },
    {
     "name": "stdout",
     "output_type": "stream",
     "text": [
      "11\n",
      "-1\n",
      "30\n"
     ]
    }
   ],
   "source": [
    "##Introduction##Arithmetic Operators\n",
    "a = int(input())\n",
    "b = int(input())\n",
    "print(a+b)\n",
    "print(a-b)\n",
    "print(a*b)"
   ]
  },
  {
   "cell_type": "code",
   "execution_count": 11,
   "metadata": {},
   "outputs": [
    {
     "name": "stdin",
     "output_type": "stream",
     "text": [
      " 6\n",
      " 2\n"
     ]
    },
    {
     "name": "stdout",
     "output_type": "stream",
     "text": [
      "3\n",
      "3.0\n"
     ]
    }
   ],
   "source": [
    "##Introduction##Python: Division\n",
    "a = int(input())\n",
    "b = int(input())\n",
    "print(a//b)\n",
    "print(a/b)"
   ]
  },
  {
   "cell_type": "code",
   "execution_count": 12,
   "metadata": {},
   "outputs": [
    {
     "name": "stdin",
     "output_type": "stream",
     "text": [
      " 2\n"
     ]
    },
    {
     "name": "stdout",
     "output_type": "stream",
     "text": [
      "0\n",
      "1\n"
     ]
    }
   ],
   "source": [
    "##Introduction##Loops\n",
    "n =int(input())\n",
    "for i in range(n):\n",
    "    print(i*i)"
   ]
  },
  {
   "cell_type": "code",
   "execution_count": 14,
   "metadata": {},
   "outputs": [
    {
     "name": "stdin",
     "output_type": "stream",
     "text": [
      " 1990\n"
     ]
    },
    {
     "name": "stdout",
     "output_type": "stream",
     "text": [
      "False\n"
     ]
    }
   ],
   "source": [
    "##Introduction##Write a function\n",
    "def is_leap(year):\n",
    "    leap = False\n",
    "\n",
    "    if year == 1800 or year == 1900 or year == 2100 or year == 2200 or year == 2300 or year == 2500 : \n",
    "        leap = False\n",
    "    \n",
    "    elif year%4 == 0 or year%400==0 : \n",
    "        leap = True\n",
    "    \n",
    "    return leap\n",
    "\n",
    "year = int(input())\n",
    "print(is_leap(year))"
   ]
  },
  {
   "cell_type": "code",
   "execution_count": 16,
   "metadata": {},
   "outputs": [
    {
     "name": "stdin",
     "output_type": "stream",
     "text": [
      " 4\n"
     ]
    },
    {
     "name": "stdout",
     "output_type": "stream",
     "text": [
      "1234"
     ]
    }
   ],
   "source": [
    "##Introduction##Print Function\n",
    "n = int(input())\n",
    "for i in range (n):\n",
    "    print(i+1, end=\"\")"
   ]
  },
  {
   "cell_type": "code",
   "execution_count": null,
   "metadata": {},
   "outputs": [],
   "source": [
    "##DataTypes##List Comprehensions\n",
    "x = int(input())\n",
    "y = int(input())\n",
    "z = int(input())\n",
    "n = int(input())\n",
    "ar = []\n",
    "p = 0\n",
    "for i in range ( x + 1 ) :\n",
    "    for j in range( y + 1): \n",
    "        for r in range( z + 1):\n",
    "            if i+j+r != n:\n",
    "                ar.append([]) \n",
    "                ar[p] = [ i , j, r ]\n",
    "                p+=1\n",
    "print(ar)"
   ]
  },
  {
   "cell_type": "code",
   "execution_count": 3,
   "metadata": {},
   "outputs": [
    {
     "name": "stdin",
     "output_type": "stream",
     "text": [
      " 2\n",
      " 5 2 3 6 6 5\n"
     ]
    },
    {
     "name": "stdout",
     "output_type": "stream",
     "text": [
      "5\n"
     ]
    }
   ],
   "source": [
    "##DataTypes##Find the Runner-Up Score!\n",
    "\n",
    "n = int(input())\n",
    "arr = map(int, input().split())\n",
    "arr = set(list(arr))    \n",
    "arr = sorted(arr)\n",
    "print(arr[len(arr)-2])"
   ]
  },
  {
   "cell_type": "code",
   "execution_count": 6,
   "metadata": {},
   "outputs": [
    {
     "name": "stdin",
     "output_type": "stream",
     "text": [
      " 4\n",
      " Jean\n",
      " 3\n",
      " Pro\n",
      " 2\n",
      " Oui\n",
      " 4\n",
      " Goi\n",
      " 5\n"
     ]
    },
    {
     "name": "stdout",
     "output_type": "stream",
     "text": [
      "Jean\n"
     ]
    }
   ],
   "source": [
    "##DataTypes##Nested Lists\n",
    "score1 = []\n",
    "score2 = []\n",
    "\n",
    "for _ in range(int(input())):\n",
    "    name = input()\n",
    "    score = float(input())\n",
    "    \n",
    "    \n",
    "    score1.append([name, score])\n",
    "    score2.append(score)\n",
    "    score2 = sorted(score2)\n",
    "    \n",
    "\n",
    "score2 = list(set(score2))\n",
    "score2 = sorted(score2)\n",
    "i= score2[1]\n",
    "\n",
    "name1 = []\n",
    "for k in range(len(score1)):\n",
    "    if score1[k][1] == i: \n",
    "        name1.append(score1[k][0])\n",
    "name1= sorted(name1)\n",
    "for p in range(len(name1)):\n",
    "    print(name1[p])\n",
    "   \n",
    "   \n"
   ]
  },
  {
   "cell_type": "code",
   "execution_count": null,
   "metadata": {},
   "outputs": [],
   "source": [
    "print()"
   ]
  },
  {
   "cell_type": "code",
   "execution_count": null,
   "metadata": {},
   "outputs": [],
   "source": [
    "##DataTypes##Finding the percentage\n",
    "import statistics\n",
    "# Use: statistics.mean(liste)\n",
    " \n",
    "from statistics import mean\n",
    "# Use: mean(liste)\n",
    "\n",
    "if __name__ == '__main__':\n",
    "    n = int(input())\n",
    "    student_marks = {}\n",
    "    for _ in range(n):\n",
    "        name, *line = input().split()\n",
    "        scores = list(map(float, line))\n",
    "        student_marks[name] = scores\n",
    "    query_name = input()\n",
    "list = []\n",
    "\n",
    "for cle,valeur in student_marks.items():\n",
    "    k = mean(valeur)   \n",
    "    list.append([cle,k])\n",
    "\n",
    "arr= []\n",
    "for i in range(len(list)):\n",
    "    if list[i][0] == query_name:\n",
    "        a= list[i][1]\n",
    "        x=\"%.2f\" % a\n",
    "        print(x)\n",
    "        \n",
    "        "
   ]
  },
  {
   "cell_type": "code",
   "execution_count": null,
   "metadata": {},
   "outputs": [],
   "source": [
    "##DataTypes##Tuples\n",
    "if __name__ == '__main__':\n",
    "    n = int(input())\n",
    "    integer_list = map(int, input().split())\n",
    "    t = tuple(list(integer_list))\n",
    "    print(hash(t))\n",
    "    "
   ]
  },
  {
   "cell_type": "code",
   "execution_count": null,
   "metadata": {},
   "outputs": [],
   "source": [
    "##String##SwapCase\n",
    "def swap_case(s):\n",
    "    arr= []\n",
    "    for lettre in s:\n",
    "        if lettre.isupper() == True :\n",
    "            arr.append(lettre.lower())\n",
    "        else :\n",
    "            arr.append(lettre.upper())\n",
    "             \n",
    "    for i in range(len(arr)):\n",
    "        print(arr[i], end= \"\")\n",
    "    return(\"\")\n"
   ]
  },
  {
   "cell_type": "code",
   "execution_count": null,
   "metadata": {},
   "outputs": [],
   "source": [
    "##String##String Split and Join\n",
    "def split_and_join(line):\n",
    "    a = line.split(\" \")\n",
    "    a = \"-\".join(a)\n",
    "    print(a)\n",
    "    return(\"\")\n"
   ]
  },
  {
   "cell_type": "code",
   "execution_count": null,
   "metadata": {},
   "outputs": [],
   "source": [
    "##String##Mutation\n",
    "def mutate_string(string, position, character):\n",
    "    string = string[:position] + character + string[position+1:]\n",
    "    print(string)\n",
    "    return(\"\")\n",
    "\n"
   ]
  },
  {
   "cell_type": "code",
   "execution_count": null,
   "metadata": {},
   "outputs": [],
   "source": [
    "##String##Find a string\n",
    "def count_substring(string, sub_string):\n",
    "    k = 0\n",
    "    u = 0\n",
    "    \n",
    "    for j in range(len(string)):\n",
    "        i=0\n",
    "        u=j\n",
    "        while( i<len(sub_string) and u<len(string) and sub_string[i] == string[u] ):\n",
    "            i=i+1\n",
    "            u=u+1\n",
    "            if (i == len(sub_string)):\n",
    "                k=k+1\n",
    "    print(k)\n",
    "\n",
    "\n",
    "\n",
    "    return(\"\")\n",
    "\n"
   ]
  },
  {
   "cell_type": "code",
   "execution_count": null,
   "metadata": {},
   "outputs": [],
   "source": [
    "##String##StringValidator\n",
    "if __name__ == '__main__':\n",
    "    s = input()\n",
    "    a = False\n",
    "    b = False\n",
    "    c = False\n",
    "    d = False\n",
    "    e = False\n",
    "    index = 0\n",
    "    for i in s : \n",
    "        if (i.isalnum() == True):\n",
    "            a = True\n",
    "        if (i.isalpha() == True) :\n",
    "            b = True\n",
    "        if (i.isdigit() == True) :\n",
    "            c = True\n",
    "        if (i.islower() == True) :\n",
    "            d = True\n",
    "        if (i.isupper() == True) :\n",
    "            e = True\n",
    "    print(a)\n",
    "    print(b)\n",
    "    print(c)\n",
    "    print(d)\n",
    "    print(e)\n",
    "    \n",
    "    "
   ]
  },
  {
   "cell_type": "code",
   "execution_count": null,
   "metadata": {},
   "outputs": [],
   "source": [
    "##String##String Alignment\n",
    "\n",
    "thickness = int(input()) #This must be an odd number\n",
    "c = 'H'\n",
    "\n",
    "#Top Cone\n",
    "for i in range(thickness):\n",
    "    print((c*i).rjust(thickness-1)+c+(c*i).ljust(thickness-1))\n",
    "\n",
    "#Top Pillars\n",
    "for i in range(thickness+1):\n",
    "    print((c*thickness).center(thickness*2)+(c*thickness).center(thickness*6))\n",
    "\n",
    "#Middle Belt\n",
    "for i in range((thickness+1)//2):\n",
    "    print((c*thickness*5).center(thickness*6))    \n",
    "\n",
    "#Bottom Pillars\n",
    "for i in range(thickness+1):\n",
    "    print((c*thickness).center(thickness*2)+(c*thickness).center(thickness*6))    \n",
    "\n",
    "#Bottom Cone\n",
    "for i in range(thickness):\n",
    "    print(((c*(thickness-i-1)).rjust(thickness)+c+(c*(thickness-i-1)).ljust(thickness)).rjust(thickness*6))\n",
    "\n",
    "    "
   ]
  },
  {
   "cell_type": "code",
   "execution_count": null,
   "metadata": {},
   "outputs": [],
   "source": [
    "##String##Text wrap\n",
    "def wrap(string, max_width):\n",
    "    a= textwrap.wrap(string, max_width)\n",
    "    for i in a:\n",
    "        print(i)\n",
    "    return(\"\")\n",
    "\n"
   ]
  },
  {
   "cell_type": "code",
   "execution_count": null,
   "metadata": {},
   "outputs": [],
   "source": [
    "##String##Designer Door Mat\n",
    "a, b = map(int,input().split())\n",
    "pattern = [('.|.'*(2*i + 1)).center(b, '-') for i in range(a//2)]\n",
    "print('\\n'.join(pattern + ['WELCOME'.center(b, '-')] + pattern[::-1]))\n"
   ]
  },
  {
   "cell_type": "code",
   "execution_count": null,
   "metadata": {},
   "outputs": [],
   "source": [
    "##String##AlphabetRangoli\n",
    "import string\n",
    "def print_rangoli(size):\n",
    "    \n",
    "    alpha = string.ascii_lowercase\n",
    "    [print('-'.join(alpha[abs(x):size][::-1] + alpha[abs(x-1):size]).center(4*n-3, '-')) for x in range(n, -n, -1) if x !=0]\n"
   ]
  },
  {
   "cell_type": "code",
   "execution_count": null,
   "metadata": {},
   "outputs": [],
   "source": [
    "##String##StringFormatting\n",
    "def print_formatted(number):\n",
    "    # your code goes here\n",
    "    for i in range(1, number+1):\n",
    "        \n",
    "         \n",
    "        print(\"{0:>{w}d} {0:>{w}o} {0:>{w}X} {0:>{w}b}\".format(i, w=len(bin(number)[2:])))\n",
    "    "
   ]
  },
  {
   "cell_type": "code",
   "execution_count": null,
   "metadata": {},
   "outputs": [],
   "source": [
    "##string##Capitalize\n",
    "def solve(s):\n",
    "    \n",
    "     \n",
    "    for x in s[:].split():\n",
    "        s = s.replace(x, x.capitalize())   \n",
    "    return s\n"
   ]
  },
  {
   "cell_type": "code",
   "execution_count": null,
   "metadata": {},
   "outputs": [],
   "source": [
    "##String##Whats your name\n",
    "def print_full_name(a, b):\n",
    "    print(\"Hello {0} {1}! You just delved into python.\".format(a,b))"
   ]
  },
  {
   "cell_type": "code",
   "execution_count": null,
   "metadata": {},
   "outputs": [],
   "source": [
    "##String##TheMinionGame\n",
    "def minion_game(string):\n",
    "    a = 0\n",
    "    b = 0\n",
    "    test = 'AEIOU'\n",
    "    for i in range(len(string)):\n",
    "        if string[i] in test:\n",
    "            a = a + (len(string)-i)\n",
    "        else:\n",
    "            b = b + (len(string)-i)\n",
    "    if a < b:\n",
    "        print (\"Stuart\", b)\n",
    "    elif a > b:\n",
    "        print (\"Kevin\", a)\n",
    "    else:\n",
    "        print(\"Draw\")\n"
   ]
  },
  {
   "cell_type": "code",
   "execution_count": null,
   "metadata": {},
   "outputs": [],
   "source": [
    "##String##MergeTheTools\n",
    "def merge_the_tools(string, step):\n",
    "\n",
    "    for i in range(0, len(string), step):\n",
    "        mot = \"\"\n",
    "        mot1 = string[i : i + step]\n",
    "        for j in mot1:\n",
    "            if j not in mot:\n",
    "                mot = mot + j          \n",
    "        print(mot)\n"
   ]
  },
  {
   "cell_type": "code",
   "execution_count": null,
   "metadata": {},
   "outputs": [],
   "source": [
    "##Set##IntroductionToSet\n",
    "def average(array):\n",
    "    x = list(set(array))\n",
    "    v = sum(x)\n",
    "    u = v/(len(x))\n",
    "    return(u)\n",
    "    \n",
    "    \n"
   ]
  },
  {
   "cell_type": "code",
   "execution_count": null,
   "metadata": {},
   "outputs": [],
   "source": [
    "##Set##Symetric difference\n",
    "a,b=(int(input()),input().split())\n",
    "c,d=(int(input()),input().split())\n",
    "set1=set(b)\n",
    "set2=set(d)\n",
    "p=set2.difference(set1)\n",
    "q=set1.difference(set2)\n",
    "r=p.union(q)\n",
    "liste = sorted(r,key=int )\n",
    "print ('\\n'.join(liste))\n"
   ]
  },
  {
   "cell_type": "code",
   "execution_count": null,
   "metadata": {},
   "outputs": [],
   "source": [
    "##Set##NoIdea\n",
    "a = input().split()\n",
    "total = 0\n",
    "a=input().split(' ')\n",
    "b=set(input().split(' '))\n",
    "c=set(input().split(' '))\n",
    "for i in a:\n",
    "    if i in b:\n",
    "        total+=1\n",
    "    if i in c:\n",
    "        total-=1\n",
    "        \n",
    "print(total)\n"
   ]
  },
  {
   "cell_type": "code",
   "execution_count": null,
   "metadata": {},
   "outputs": [],
   "source": [
    "##Set##Set.add\n",
    "import collections\n",
    "liste = []\n",
    "for k in range(int(input())):\n",
    "    liste.append(input()) \n",
    "liste = collections.Counter(liste)\n",
    "print(len(liste))\n",
    "\n"
   ]
  },
  {
   "cell_type": "code",
   "execution_count": null,
   "metadata": {},
   "outputs": [],
   "source": [
    "##Set##Set .discard(), .remove() & .pop(\n",
    "n = int(input())\n",
    "liste = set(list(map(int, input().split())))\n",
    "\n",
    "m = int(input())\n",
    "for k in range(m): \n",
    "    command, *arg = input().split()\n",
    "    getattr(liste, command)(*map(int,arg))\n",
    "\n",
    "print(sum(liste))\n",
    "\n"
   ]
  },
  {
   "cell_type": "code",
   "execution_count": null,
   "metadata": {},
   "outputs": [],
   "source": [
    "##Set##Set .union() Operation\n",
    "n = int(input())\n",
    "liste = list(map(int,input().split()))\n",
    "m = int(input())\n",
    "liste2 = list(map(int,input().split()))\n",
    "\n",
    "set1 = set(liste)\n",
    "set2 = set(liste2)\n",
    "\n",
    "print(len(set1.union(set2)))\n"
   ]
  },
  {
   "cell_type": "code",
   "execution_count": null,
   "metadata": {},
   "outputs": [],
   "source": [
    "##Set##Set .intersection() Operation\n",
    "n = int(input())\n",
    "liste = list(map(int,input().split()))\n",
    "m = int(input())\n",
    "liste2 = list(map(int,input().split()))\n",
    "\n",
    "set1 = set(liste)\n",
    "set2 = set(liste2)\n",
    "\n",
    "print(len(set1.intersection(set2)))\n"
   ]
  },
  {
   "cell_type": "code",
   "execution_count": null,
   "metadata": {},
   "outputs": [],
   "source": [
    "##Set##Set .difference() Operation\n",
    "n = int(input())\n",
    "liste = list(map(int,input().split()))\n",
    "m = int(input())\n",
    "liste2 = list(map(int,input().split()))\n",
    "\n",
    "set1 = set(liste)\n",
    "set2 = set(liste2)\n",
    "\n",
    "print(len(set1.difference(set2)))\n"
   ]
  },
  {
   "cell_type": "code",
   "execution_count": null,
   "metadata": {},
   "outputs": [],
   "source": [
    "##Set##Set .symmetric_difference() Operation\n",
    "n = int(input())\n",
    "liste = list(map(int,input().split()))\n",
    "m = int(input())\n",
    "liste2 = list(map(int,input().split()))\n",
    "\n",
    "set1 = set(liste)\n",
    "set2 = set(liste2)\n",
    "\n",
    "print(len(set1.symmetric_difference(set2)))\n"
   ]
  },
  {
   "cell_type": "code",
   "execution_count": null,
   "metadata": {},
   "outputs": [],
   "source": [
    "##Set##SetMutation\n",
    "n = int(input())\n",
    "set1 = set(input().split())\n",
    "m = int(input())\n",
    "somme = 0\n",
    "for k in range(m): \n",
    "    fonct = input().split()[0]\n",
    "    getattr(set1, fonct)(set(input().split()))\n",
    "\n",
    "somme = sum(map(int, set1))\n",
    "print(somme)\n"
   ]
  },
  {
   "cell_type": "code",
   "execution_count": null,
   "metadata": {},
   "outputs": [],
   "source": [
    "##Set##TheCaptainRoom\n",
    "import collections\n",
    "input()\n",
    "a = collections.Counter(list(map(int, input().split())))\n",
    "lst = list(a.keys())\n",
    "\n",
    "print(lst[-1])"
   ]
  },
  {
   "cell_type": "code",
   "execution_count": null,
   "metadata": {},
   "outputs": [],
   "source": [
    "##Set##CheckSubset\n",
    "k = int(input())\n",
    "\n",
    "for i in range(k):\n",
    "    n = int(input())\n",
    "    set1 = set(input().split())\n",
    "    m = input()\n",
    "    set2 = set(input().split())\n",
    "    if len(set1.intersection(set2)) == n:\n",
    "        print(\"True\")\n",
    "    else : \n",
    "        print(\"False\")    \n"
   ]
  },
  {
   "cell_type": "code",
   "execution_count": null,
   "metadata": {},
   "outputs": [],
   "source": [
    "##Set##Check Strict Superset\n",
    "A = set(list(map(int,input().split())))\n",
    "n = int(input())\n",
    "i = 1\n",
    "total = 0\n",
    "for k in range(n):\n",
    "    B =  set(list(map(int,input().split())))\n",
    "    if(len(A.intersection(B)) == len(B)):\n",
    "        total = total +1\n",
    "if total == n:\n",
    "    print(\"True\")\n",
    "else : \n",
    "    print(\"False\")       "
   ]
  },
  {
   "cell_type": "code",
   "execution_count": null,
   "metadata": {},
   "outputs": [],
   "source": [
    "##Collections##Collection.counter()\n",
    "import collections\n",
    "from collections import Counter\n",
    "\n",
    "nombrechaussure = int(raw_input())\n",
    "chaussuredispo = collections.Counter(map(int, raw_input().split()))\n",
    "nbrClient = int(raw_input())\n",
    "total = 0\n",
    "\n",
    "for i in range(nbrClient):\n",
    "    a = map(int, raw_input().split())\n",
    "    taille = a[0]\n",
    "    prix = a[1]\n",
    "    \n",
    "    if (chaussuredispo[taille] > 0) :\n",
    "        total = total+ prix\n",
    "        chaussuredispo[taille] -=1\n",
    "\n",
    "print(total)   \n",
    "        "
   ]
  },
  {
   "cell_type": "code",
   "execution_count": null,
   "metadata": {},
   "outputs": [],
   "source": [
    "##Collections##DefaultDict tutorial\n",
    "from collections import defaultdict\n",
    "n,m=[int(x) for x in input().split(' ')]\n",
    "lis=[]\n",
    "d=defaultdict(list)\n",
    "for i in range(1,n+1):\n",
    "    d[input()].append(i)\n",
    "for _ in range(m):\n",
    "    lis.append(input())\n",
    "for x in lis:\n",
    "    if x in d:\n",
    "        print(' '.join(map(str,d[x])))\n",
    "    else:\n",
    "        print(-1)"
   ]
  },
  {
   "cell_type": "code",
   "execution_count": null,
   "metadata": {},
   "outputs": [],
   "source": [
    "##Collections##Collection.namedTuple\n",
    "from collections import namedtuple\n",
    "\n",
    "nbr = int(input())\n",
    "column = input().split()\n",
    "somme=0\n",
    "moyenne = 0\n",
    "for i in range(nbr):\n",
    "    objEleve = namedtuple('eleve',column)\n",
    "    c1, c2, c3,c4 = input().split()\n",
    "    eleve = objEleve(c1,c2,c3,c4)\n",
    "    somme = somme +int(eleve.MARKS)\n",
    "moyenne = somme/nbr\n",
    "print('{:.2f}'.format(moyenne))\n"
   ]
  },
  {
   "cell_type": "code",
   "execution_count": null,
   "metadata": {},
   "outputs": [],
   "source": [
    "##Collections##OrderedDict\n",
    "from collections import OrderedDict\n",
    "\n",
    "\n",
    "n = int(input()) \n",
    "od = OrderedDict()\n",
    "\n",
    "for k in range(n):\n",
    "    product, price = input().rsplit(' ',1)\n",
    "    \n",
    "    od.setdefault(product,0)\n",
    "   \n",
    "    od[product] += int(price)\n",
    "    \n",
    "\n",
    "\n",
    "for product, price in od.items():\n",
    "        print(product, price)"
   ]
  },
  {
   "cell_type": "code",
   "execution_count": null,
   "metadata": {},
   "outputs": [],
   "source": [
    "##Collections##Word order\n",
    "import collections\n",
    "n = int(input())\n",
    "liste = []\n",
    "for k in range(n):\n",
    "    liste.append(input())\n",
    "\n",
    "a = collections.Counter(liste)\n",
    "print(len(a))\n",
    "b = list(a)\n",
    "c = list(a.values())\n",
    "\n",
    "for i in c  : \n",
    "    print(i, end= ' ')\n",
    "    "
   ]
  },
  {
   "cell_type": "code",
   "execution_count": null,
   "metadata": {},
   "outputs": [],
   "source": [
    "##Collections##Collections.deque()\n",
    "from collections import deque\n",
    "\n",
    "\n",
    "liste = deque()\n",
    "for k in range(int(input())):\n",
    "    fonction, *arg = input().split()\n",
    "\n",
    "    getattr(liste, fonction)(*arg)\n",
    "    \n",
    "print(*liste)"
   ]
  },
  {
   "cell_type": "code",
   "execution_count": null,
   "metadata": {},
   "outputs": [],
   "source": [
    "##Collections##Company logo\n",
    "import math\n",
    "import os\n",
    "import random\n",
    "import re\n",
    "import sys\n",
    "\n",
    "import collections\n",
    "\n",
    "\n",
    "if __name__ == '__main__':\n",
    "    \n",
    "    mot = input()\n",
    "    mot1 = sorted(mot)\n",
    "    collec = collections.Counter(''.join(mot1))\n",
    "    \n",
    "    for i in range(3):\n",
    "        print(collec.most_common(3)[i][0], collec.most_common(3)[i][1])"
   ]
  },
  {
   "cell_type": "code",
   "execution_count": null,
   "metadata": {},
   "outputs": [],
   "source": [
    "##Collections##pilling up\n",
    "n = int(input())\n",
    "for t in range(n):\n",
    "    lenliste = int(input())\n",
    "    liste = list(map(int, input().split()))\n",
    "    i = 0\n",
    "    while i < lenliste - 1 and liste[i+1] <= liste[i]:\n",
    "        i += 1\n",
    "    while i < lenliste - 1 and liste[i+1] >= liste[i]:\n",
    "        i += 1\n",
    "    \n",
    "    if i == lenliste - 1 : \n",
    "        print(\"Yes\")\n",
    "    else : \n",
    "        print(\"No\")\n"
   ]
  },
  {
   "cell_type": "code",
   "execution_count": null,
   "metadata": {},
   "outputs": [],
   "source": [
    "##Date and time##Calendar modul\n",
    "import calendar\n",
    "\n",
    "n =input().split()\n",
    "\n",
    "n1 = int(n[0])\n",
    "n2 = int(n[1])\n",
    "n3 = int(n[2])\n",
    "print((calendar.day_name[calendar.weekday(n3,n1,n2)]).upper())"
   ]
  },
  {
   "cell_type": "code",
   "execution_count": null,
   "metadata": {},
   "outputs": [],
   "source": [
    "##Date and time##timeDelta\n",
    "import math\n",
    "import os\n",
    "import random\n",
    "import re\n",
    "import sys\n",
    "from datetime import datetime as dt\n",
    "# Complete the time_delta function below.\n",
    "def time_delta(t1, t2):\n",
    "    date = '%a %d %b %Y %H:%M:%S %z'\n",
    "    date1 =int(dt.strptime(t1,date).timestamp())\n",
    "    date2 =int(dt.strptime(t2,date).timestamp())\n",
    "    difference=date1-date2\n",
    "    resultat = str(abs(difference))\n",
    "    return resultat\n",
    "if __name__ == '__main__':\n",
    "    fptr = open(os.environ['OUTPUT_PATH'], 'w')\n",
    "\n",
    "    t = int(input())\n",
    "\n",
    "    for t_itr in range(t):\n",
    "        t1 = input()\n",
    "\n",
    "        t2 = input()\n",
    "\n",
    "        delta = time_delta(t1, t2)\n",
    "\n",
    "        fptr.write(delta + '\\n')\n",
    "\n",
    "    fptr.close()"
   ]
  },
  {
   "cell_type": "code",
   "execution_count": null,
   "metadata": {},
   "outputs": [],
   "source": [
    "##Exceptions\n",
    "n = int(input())\n",
    "\n",
    "for k in range(n):\n",
    "    try:\n",
    "        a,b= map(int,input().split())\n",
    "        print(a//b)\n",
    "    except BaseException as e:\n",
    "        print(\"Error Code:\" , e)"
   ]
  },
  {
   "cell_type": "code",
   "execution_count": null,
   "metadata": {},
   "outputs": [],
   "source": [
    "##Builts in##zipped\n",
    "m,n = input().split()\n",
    "liste = []\n",
    "for k in range(int(n)): \n",
    "    liste.append(input().split())\n",
    "\n",
    "\n",
    "X = list(zip(*liste))\n",
    "for x in X :\n",
    "    sum1 = 0\n",
    "    for i in x :\n",
    "        sum1 = sum1+ float(i)\n",
    "        \n",
    "    print(sum1/int(n))"
   ]
  },
  {
   "cell_type": "code",
   "execution_count": null,
   "metadata": {},
   "outputs": [],
   "source": [
    "##Builts in##python-sort-sort\n",
    "from operator import itemgetter, attrgetter\n",
    "import math\n",
    "import os\n",
    "import random\n",
    "import re\n",
    "import sys\n",
    "\n",
    "\n",
    "\n",
    "\n",
    "if __name__ == '__main__':\n",
    "    nm = input().split()\n",
    "\n",
    "    n = int(nm[0])\n",
    "\n",
    "    m = int(nm[1])\n",
    "\n",
    "    arr = []\n",
    "\n",
    "    for _ in range(n):\n",
    "        arr.append(list(map(int, input().rstrip().split())))\n",
    "\n",
    "    k = int(input())\n",
    "    arr = sorted(arr, key=itemgetter(k))\n",
    "    for k in arr:\n",
    "        for i in k :\n",
    "            print(i, end= \" \")\n",
    "        print()    "
   ]
  },
  {
   "cell_type": "code",
   "execution_count": null,
   "metadata": {},
   "outputs": [],
   "source": [
    "##Builts in##ginorts\n",
    "n = input()\n",
    "lettre = []\n",
    "majuscule = []\n",
    "digit = []\n",
    "digit1 = []\n",
    "for k in n : \n",
    "    if (k.isdigit() == False) and (k.islower() == True):\n",
    "        lettre.append(k)\n",
    "        \n",
    "\n",
    "    elif (k.isdigit() == True  and int(k)%2 == 0):\n",
    "        digit.append(k)\n",
    "\n",
    "    elif (k.isdigit() == False) and (k.isupper() == True):\n",
    "        majuscule.append(k)  \n",
    "    else : \n",
    "        digit1.append(k)    \n",
    "\n",
    "lettre= sorted(lettre)\n",
    "majuscule = sorted(majuscule)\n",
    "digit = sorted(digit)\n",
    "digit1 = sorted(digit1)\n",
    "final = str()\n",
    "for lettre in lettre:\n",
    "    final = final + lettre\n",
    "\n",
    "for lettre in majuscule:\n",
    "    final = final + lettre\n",
    "\n",
    "for lettre in digit1:\n",
    "    final = final + str(lettre)\n",
    "\n",
    "for lettre in digit:\n",
    "    final = final + str(lettre)   \n",
    "\n",
    "print(final)"
   ]
  },
  {
   "cell_type": "code",
   "execution_count": null,
   "metadata": {},
   "outputs": [],
   "source": [
    "##Python Functionnals\n",
    "cube = lambda x: x**3 # complete the lambda function \n",
    "\n",
    "def fibonacci(n):\n",
    "     liste = [0,1]\n",
    "     for k in range(2,n):\n",
    "         liste.append(liste[k-2] + liste[k-1])\n",
    "     return(liste[0:n])"
   ]
  },
  {
   "cell_type": "code",
   "execution_count": null,
   "metadata": {},
   "outputs": [],
   "source": [
    "##Regex##Detect Floating Point Number\n",
    "import re\n",
    "\n",
    "for k in range(int(input())):\n",
    "    test = input()\n",
    "    match = re.match(r'^[-+]?[0-9]*\\.[0-9]+$', test)\n",
    "\n",
    "    if match is not None:\n",
    "        print(\"True\")\n",
    "    else : \n",
    "        print(\"False\") "
   ]
  },
  {
   "cell_type": "code",
   "execution_count": null,
   "metadata": {},
   "outputs": [],
   "source": [
    "##Regex##re.split()\n",
    "regex_pattern = r\"[,.]+\"\t# Do not delete 'r'.\n"
   ]
  },
  {
   "cell_type": "code",
   "execution_count": null,
   "metadata": {},
   "outputs": [],
   "source": [
    "##Regex##Group(), Groups() & Groupdict()\n",
    "import re\n",
    "\n",
    "regex = re.search(r'([a-zA-Z0-9])\\1', input().strip())\n",
    "if regex is not None : \n",
    "    print(regex.group(1))\n",
    "else: \n",
    "    print(-1)\n"
   ]
  },
  {
   "cell_type": "code",
   "execution_count": null,
   "metadata": {},
   "outputs": [],
   "source": [
    "##regex##Re.findall() & Re.finditer()\n",
    "import re\n",
    "s = '[qwrtypsdfghjklzxcvbnm]'\n",
    "v = '[aeiou]'\n",
    "word = input()\n",
    "match = re.findall('(?<=' + s +')('+v+'{2,})' + s, word, re.I)\n",
    "\n",
    "if len(match) > 0 : \n",
    "    for k in match:\n",
    "        print(k)\n",
    "else : print(-1)"
   ]
  },
  {
   "cell_type": "code",
   "execution_count": null,
   "metadata": {},
   "outputs": [],
   "source": [
    "##regex##Regex Substitution\n",
    "import re\n",
    "n= int(input())\n",
    "for k in range(n):\n",
    "        s = input()\n",
    "        s = re.sub(r\" \\|\\|(?= )\", ' or', s)\n",
    "        s = re.sub(r\" \\&\\&(?= )\", \" and\", s)\n",
    "        print(s)"
   ]
  },
  {
   "cell_type": "code",
   "execution_count": null,
   "metadata": {},
   "outputs": [],
   "source": [
    "##regex##ValidatingRomanNumerals\n",
    "regex_pattern = r\"^(M{0,3})(CM|CD|D?C{0,3})(XC|XL|L?X{0,3})(IX|IV|V?I{0,3})$\"\t# Do not delete 'r'."
   ]
  },
  {
   "cell_type": "code",
   "execution_count": null,
   "metadata": {},
   "outputs": [],
   "source": [
    "##Regex##Validating phone numbers\n",
    "import re\n",
    "for k in range(int(input())):\n",
    "    number = input()\n",
    "    match = re.match(r'[789]\\d{9}$', number)\n",
    "    \n",
    "    if match is not None:\n",
    "        print(\"YES\")\n",
    "    else : \n",
    "        print(\"NO\")    "
   ]
  },
  {
   "cell_type": "code",
   "execution_count": null,
   "metadata": {},
   "outputs": [],
   "source": [
    "##Regex##Validating and Parsing Email Addresses\n",
    "import re\n",
    "for k in range(int(input())):\n",
    "    name, adresse = input().split()\n",
    "    match = re.match(r'<[A-Za-z](\\w|-|\\.|_)+@[A-Za-z]+\\.[A-Za-z]{1,3}>', adresse)\n",
    "    \n",
    "    if match is not None:\n",
    "        print(name, adresse)"
   ]
  },
  {
   "cell_type": "code",
   "execution_count": null,
   "metadata": {},
   "outputs": [],
   "source": [
    "##Regex##Hex Color Code\n",
    "import re\n",
    "for k in range(int(input())):\n",
    "    ligne = input()\n",
    "    find = re.findall(r':?.(#[0-9a-fA-F]{6}|#[0-9a-fA-F]{3})', ligne)\n",
    "    \n",
    "    if len(find) > 0:\n",
    "        for k in find:\n",
    "            print(k)"
   ]
  },
  {
   "cell_type": "code",
   "execution_count": null,
   "metadata": {},
   "outputs": [],
   "source": [
    "##Regex##HTML Parser - Part 1\n",
    "from html.parser import HTMLParser\n",
    "n = int(input())\n",
    "# create a subclass and override the handler methods\n",
    "class MyHTMLParser(HTMLParser):\n",
    "    def handle_starttag(self, tag, attrs):\n",
    "        print(\"Start :\", tag)\n",
    "        for i in attrs:\n",
    "            print ('->',i[0],'>',i[1])\n",
    "    def handle_endtag(self, tag):\n",
    "        print(\"End   :\", tag)\n",
    "    def handle_startendtag(self, tag, attrs):\n",
    "        print(\"Empty :\", tag)\n",
    "        for i in attrs:\n",
    "            print ('->',i[0],'>',i[1])\n",
    "myHTML = MyHTMLParser()\n",
    "for k in range(n):\n",
    "    if myHTML.feed(input().strip()) is not None:\n",
    "        print(myHTML.feed(input().strip()), end= \" \")"
   ]
  },
  {
   "cell_type": "code",
   "execution_count": null,
   "metadata": {},
   "outputs": [],
   "source": [
    "##xml##Find the Score\n",
    "import xml.etree.ElementTree as etree\n",
    "def get_attr_number(node):\n",
    "    total = 0\n",
    "    for k in tree.iter():\n",
    "        i = len(k.items())\n",
    "        total = total + i\n",
    "    return(total)    "
   ]
  },
  {
   "cell_type": "code",
   "execution_count": null,
   "metadata": {},
   "outputs": [],
   "source": [
    "##xml##XML2 - Find the Maximum Depth\n",
    "maxdepth = 0\n",
    "lst=[]\n",
    "def depth(elem, level):\n",
    "   \n",
    "    global maxdepth\n",
    "    for k in tree.iter():\n",
    "        i=k.getchildren()\n",
    "        if len(i) > 0:\n",
    "            lst.append(i[0].tag)\n",
    "    maxdepth=len(set(lst))"
   ]
  },
  {
   "cell_type": "code",
   "execution_count": null,
   "metadata": {},
   "outputs": [],
   "source": [
    "##Closures and decorators##Standardize Mobile Number Using Decorators\n",
    "def wrapper(f):\n",
    "    def fun(l):\n",
    "         f([\"+91 \"+lst[-10:-5]+\" \"+lst[-5:] for lst in l])\n",
    "            \n",
    "    return fun"
   ]
  },
  {
   "cell_type": "code",
   "execution_count": null,
   "metadata": {},
   "outputs": [],
   "source": [
    "##Closures and decorators##Decorators 2 - Name Directory\n",
    "def person_lister(f):\n",
    "    def inner(people):\n",
    "        \n",
    "        return map(f, sorted(people, key=lambda x: int(x[2])))\n",
    "\n",
    "    return inner"
   ]
  },
  {
   "cell_type": "code",
   "execution_count": null,
   "metadata": {},
   "outputs": [],
   "source": [
    "##Numpy##Array\n",
    "def arrays(arr):\n",
    "    return(numpy.array(arr[::-1], float)\n",
    "    )"
   ]
  },
  {
   "cell_type": "code",
   "execution_count": null,
   "metadata": {},
   "outputs": [],
   "source": [
    "##Numpy##Shapeandreshape\n",
    "import numpy\n",
    "\n",
    "my_array = (list(map(int,input().split())))\n",
    "\n",
    "print(numpy.reshape(my_array,(3,3)))\n"
   ]
  },
  {
   "cell_type": "code",
   "execution_count": null,
   "metadata": {},
   "outputs": [],
   "source": [
    "##Numpy##Transpose and flatten\n",
    "import numpy\n",
    "\n",
    "\n",
    "\n",
    "n = input().split()[0];\n",
    "liste = [];\n",
    "for i in range(int(n)):\n",
    "    tab = input().split();\n",
    "    liste.append(tab);\n",
    "    \n",
    "liste = numpy.array(liste,int);\n",
    "\n",
    "print(numpy.transpose(liste))\n",
    "print(liste.flatten())"
   ]
  },
  {
   "cell_type": "code",
   "execution_count": null,
   "metadata": {},
   "outputs": [],
   "source": [
    "##Numpy##concatenate\n",
    "import numpy\n",
    "\n",
    "n,m,p = input().split()\n",
    "liste = []\n",
    "for k in range(int(n)):\n",
    "    a = input().split()\n",
    "    liste.append(a)\n",
    "tab = numpy.array(liste,int)\n",
    "liste1 = []\n",
    "for k in range(int(m)):\n",
    "    b = input().split()\n",
    "    liste1.append(b)\n",
    "tab1 = numpy.array(liste1,int)  \n",
    "\n",
    "\n",
    "print(numpy.concatenate((tab, tab1), axis = 0)) "
   ]
  },
  {
   "cell_type": "code",
   "execution_count": null,
   "metadata": {},
   "outputs": [],
   "source": [
    "##Numpy##zero and ones\n",
    "import numpy\n",
    "\n",
    "ligne,colonne,*c = map(int,input().split())\n",
    "\n",
    "print(numpy.zeros((ligne,colonne,*c),dtype=numpy.int))\n",
    "print(numpy.ones((ligne,colonne,*c),dtype=numpy.int))"
   ]
  },
  {
   "cell_type": "code",
   "execution_count": null,
   "metadata": {},
   "outputs": [],
   "source": [
    "##Numpy##eye and identity\n",
    "import numpy\n",
    "\n",
    "n,m = input().split()\n",
    "\n",
    "numpy.set_printoptions(sign=' ')\n",
    "print(numpy.eye(int(n), int(m), k = 0))"
   ]
  },
  {
   "cell_type": "code",
   "execution_count": null,
   "metadata": {},
   "outputs": [],
   "source": [
    "##Numpy##array mathematics\n",
    "import numpy as np\n",
    "n, m = list(map(int, input().split()))\n",
    "\n",
    "\n",
    "\n",
    "liste = []\n",
    "for k in range(n):\n",
    "    liste.append(input().split())\n",
    "a1 = np.array(liste, int)\n",
    "liste1 = []\n",
    "for k in range(n):\n",
    "    liste1.append(input().split())\n",
    "a2 = np.array(liste1, int)\n",
    "\n",
    "print(*[eval('a1'+i+'a2') for i in ['+','-','*','//','%','**']], sep='\\n')"
   ]
  },
  {
   "cell_type": "code",
   "execution_count": null,
   "metadata": {},
   "outputs": [],
   "source": [
    "##Numpy##floor, ceil and rint\n",
    "import numpy as np\n",
    "np.set_printoptions(sign=' ')\n",
    "liste = input().split()\n",
    "\n",
    "tab = np.array(liste,float)\n",
    "\n",
    "print(np.floor(tab))\n",
    "\n",
    "print(np.ceil(tab))\n",
    "\n",
    "print(np.rint(tab))\n"
   ]
  },
  {
   "cell_type": "code",
   "execution_count": null,
   "metadata": {},
   "outputs": [],
   "source": [
    "##Numpy##sumandprod\n",
    "import numpy as np\n",
    "\n",
    "n,m = input().split()\n",
    "tab = np.array([input().split() for _ in range(int(n))],int)\n",
    "\n",
    "a = np.sum(tab, axis = 0)\n",
    "prod = np.prod(a, axis = None)\n",
    "\n",
    "print(prod)"
   ]
  },
  {
   "cell_type": "code",
   "execution_count": null,
   "metadata": {},
   "outputs": [],
   "source": [
    "##Numpy##min and max\n",
    "import numpy as np\n",
    "\n",
    "n,m = input().split()\n",
    "tab = np.array([input().split() for _ in range(int(n))],int)\n",
    "\n",
    "tab = np.min(tab, axis = 1)    \n",
    "\n",
    "print(np.max(tab))"
   ]
  },
  {
   "cell_type": "code",
   "execution_count": null,
   "metadata": {},
   "outputs": [],
   "source": [
    "##Numpy##mean var and std\n",
    "import numpy\n",
    "numpy.set_printoptions(legacy='1.13')\n",
    "\n",
    "N, M = map(int, input().split())\n",
    "my_array = numpy.array([input().split() for _ in range(N)],int)\n",
    "print(numpy.mean(my_array, axis = 1)) \n",
    "print(numpy.var(my_array, axis = 0))  \n",
    "print(numpy.std(my_array, axis = None))     "
   ]
  },
  {
   "cell_type": "code",
   "execution_count": null,
   "metadata": {},
   "outputs": [],
   "source": [
    "##Numpy##dot and cross\n",
    "import numpy\n",
    "\n",
    "N = int(input())\n",
    "A = numpy.array([input().split() for _ in range(N)],int)\n",
    "B = numpy.array([input().split() for _ in range(N)],int)\n",
    "\n",
    "print(numpy.dot(A, B))"
   ]
  },
  {
   "cell_type": "code",
   "execution_count": null,
   "metadata": {},
   "outputs": [],
   "source": [
    "##Numpy##inner and outter\n",
    "import numpy\n",
    "\n",
    "\n",
    "A = numpy.array([input().split()],int)\n",
    "B = numpy.array([input().split()],int)\n",
    "\n",
    "\n",
    "print(numpy.inner(A, B)[0][0])\n",
    "print(numpy.outer(A, B))  "
   ]
  },
  {
   "cell_type": "code",
   "execution_count": null,
   "metadata": {},
   "outputs": [],
   "source": [
    "##Numpy##polynomials\n",
    "import numpy\n",
    "\n",
    "\n",
    "\n",
    "n = list(map(float,input().split()))\n",
    "m = input()\n",
    "print(numpy.polyval(n,int(m)))"
   ]
  },
  {
   "cell_type": "code",
   "execution_count": null,
   "metadata": {},
   "outputs": [],
   "source": [
    "##Numpy##numerial algebria\n",
    "import numpy\n",
    "numpy.set_printoptions(legacy='1.13')\n",
    "N= int(input())\n",
    "A = numpy.array([input().split() for _ in range(N)],float)\n",
    "print(numpy.linalg.det(A))"
   ]
  },
  {
   "cell_type": "code",
   "execution_count": null,
   "metadata": {},
   "outputs": [],
   "source": [
    "##birthday-cake-candles\n",
    "\n",
    "\n",
    "import math\n",
    "import os\n",
    "import random\n",
    "import re\n",
    "import sys\n",
    "import collections\n",
    "# Complete the birthdayCakeCandles function below.\n",
    "def birthdayCakeCandles(ar):\n",
    "    p = collections.Counter(ar)\n",
    "    m = int(max(ar))\n",
    "    \n",
    "    return(p[m])\n",
    "\n",
    "if __name__ == '__main__':\n",
    "    fptr = open(os.environ['OUTPUT_PATH'], 'w')\n",
    "\n",
    "    ar_count = int(input())\n",
    "\n",
    "    ar = list(map(int, input().rstrip().split()))\n",
    "\n",
    "    result = birthdayCakeCandles(ar)\n",
    "\n",
    "    fptr.write(str(result) + '\\n')\n",
    "\n",
    "    fptr.close()"
   ]
  },
  {
   "cell_type": "code",
   "execution_count": null,
   "metadata": {},
   "outputs": [],
   "source": [
    "##Kangaroo\n",
    "import math\n",
    "import os\n",
    "import random\n",
    "import re\n",
    "import sys\n",
    "\n",
    "# Complete the kangaroo function below.\n",
    "def kangaroo(x1, v1, x2, v2):\n",
    "\n",
    "    if ((x1>=x2 and v1>=v2) or (x2>=x1 and v2>=v1)):\n",
    "        return(\"NO\")\n",
    "    else :\n",
    "        x = x1-x2\n",
    "        v = v1-v2\n",
    "\n",
    "        sol = (-x/v)\n",
    "        sol1 = x%v\n",
    "\n",
    "        if sol > 0 and sol1 == 0:\n",
    "            return('YES')\n",
    "        else : \n",
    "            return('NO')\n",
    "\n",
    "if __name__ == '__main__':\n",
    "    fptr = open(os.environ['OUTPUT_PATH'], 'w')\n",
    "\n",
    "    x1V1X2V2 = input().split()\n",
    "\n",
    "    x1 = int(x1V1X2V2[0])\n",
    "\n",
    "    v1 = int(x1V1X2V2[1])\n",
    "\n",
    "    x2 = int(x1V1X2V2[2])\n",
    "\n",
    "    v2 = int(x1V1X2V2[3])\n",
    "\n",
    "    result = kangaroo(x1, v1, x2, v2)\n",
    "\n",
    "    fptr.write(result + '\\n')\n",
    "\n",
    "    fptr.close()"
   ]
  },
  {
   "cell_type": "code",
   "execution_count": null,
   "metadata": {},
   "outputs": [],
   "source": [
    "##Strange advertising\n",
    "import math\n",
    "import os\n",
    "import random\n",
    "import re\n",
    "import sys\n",
    "\n",
    "# Complete the viralAdvertising function below.\n",
    "def viralAdvertising(n):\n",
    "    init= 5\n",
    "    total = 0 \n",
    "    for k in range(n):\n",
    "        total = total + math.floor(init/2)\n",
    "        init = math.floor(init/2)*3\n",
    "    return(total)\n",
    "if __name__ == '__main__':\n",
    "    fptr = open(os.environ['OUTPUT_PATH'], 'w')\n",
    "\n",
    "    n = int(input())\n",
    "\n",
    "    result = viralAdvertising(n)\n",
    "\n",
    "    fptr.write(str(result) + '\\n')\n",
    "\n",
    "    fptr.close()"
   ]
  },
  {
   "cell_type": "code",
   "execution_count": null,
   "metadata": {},
   "outputs": [],
   "source": [
    "##recursive digit sum\n",
    "import math\n",
    "import os\n",
    "import random\n",
    "import re\n",
    "import sys\n",
    "\n",
    "# Complete the superDigit function below.\n",
    "def superDigit(n, k):\n",
    "    nstr = str(n)\n",
    "    a = str()\n",
    "    for i in range (k):\n",
    "        a = a + nstr\n",
    "    if (len(a) ==1):\n",
    "        return(int(a))\n",
    "    else : \n",
    "        total = 0\n",
    "        for j in a : \n",
    "            total = total + int(j)\n",
    "        return(superDigit(total,1))\n",
    "\n",
    "if __name__ == '__main__':\n",
    "    fptr = open(os.environ['OUTPUT_PATH'], 'w')\n",
    "\n",
    "    nk = input().split()\n",
    "\n",
    "    n = nk[0]\n",
    "\n",
    "    k = int(nk[1])\n",
    "\n",
    "    result = superDigit(n, k)\n",
    "\n",
    "    fptr.write(str(result) + '\\n')\n",
    "\n",
    "    fptr.close()"
   ]
  },
  {
   "cell_type": "code",
   "execution_count": null,
   "metadata": {},
   "outputs": [],
   "source": [
    "##insertionsort1\n",
    "\n",
    "import math\n",
    "import os\n",
    "import random\n",
    "import re\n",
    "import sys\n",
    "\n",
    "# Complete the insertionSort1 function below.\n",
    "def insertionSort1(n, arr):\n",
    "    point = n-2\n",
    "    u = arr[-1]\n",
    "    while ((point >= 0) and (u <= arr[point])) :\n",
    "        arr[point+1] = arr[point]\n",
    "        for i in arr : \n",
    "            print(int(i), end = \" \")\n",
    "        print()\n",
    "        point -= 1\n",
    "    arr[point+1] = u\n",
    "    for u in arr : \n",
    "            print(int(u), end = \" \")\n",
    "\n",
    "\n",
    "if __name__ == '__main__':\n",
    "    n = int(input())\n",
    "\n",
    "    arr = list(map(int, input().rstrip().split()))\n",
    "\n",
    "    insertionSort1(n, arr)"
   ]
  },
  {
   "cell_type": "code",
   "execution_count": null,
   "metadata": {},
   "outputs": [],
   "source": [
    "##insertionsort2\n",
    "import math\n",
    "import os\n",
    "import random\n",
    "import re\n",
    "import sys\n",
    "\n",
    "# Complete the insertionSort2 function below.\n",
    "def insertionSort2(n, arr):\n",
    "    \n",
    "    for k in range(1,n):\n",
    "        i = 0\n",
    "        for j in range(k):\n",
    "            if arr[k] < arr[j] : \n",
    "                i = arr[k]\n",
    "                arr[k] = arr[j]\n",
    "                arr[j] = i\n",
    "        for p in arr:\n",
    "            print(p, end = \" \")\n",
    "        print()\n",
    "\n",
    "if __name__ == '__main__':\n",
    "    n = int(input())\n",
    "\n",
    "    arr = list(map(int, input().rstrip().split()))\n",
    "\n",
    "    insertionSort2(n, arr)"
   ]
  },
  {
   "cell_type": "code",
   "execution_count": null,
   "metadata": {},
   "outputs": [],
   "source": []
  }
 ],
 "metadata": {
  "kernelspec": {
   "display_name": "Python 3",
   "language": "python",
   "name": "python3"
  },
  "language_info": {
   "codemirror_mode": {
    "name": "ipython",
    "version": 3
   },
   "file_extension": ".py",
   "mimetype": "text/x-python",
   "name": "python",
   "nbconvert_exporter": "python",
   "pygments_lexer": "ipython3",
   "version": "3.7.3"
  }
 },
 "nbformat": 4,
 "nbformat_minor": 4
}
